{
  "cells": [
    {
      "cell_type": "code",
      "execution_count": null,
      "metadata": {
        "id": "VRwx1zQ4jq6b"
      },
      "outputs": [],
      "source": [
        " "
      ]
    },
    {
      "cell_type": "code",
      "execution_count": null,
      "metadata": {
        "colab": {
          "base_uri": "https://localhost:8080/"
        },
        "id": "UaRVTU0QbYPv",
        "outputId": "c2bd608b-da80-4339-a6fb-883705bfae38"
      },
      "outputs": [
        {
          "output_type": "stream",
          "name": "stdout",
          "text": [
            "Mounted at /content/drive\n"
          ]
        }
      ],
      "source": [
        "from google.colab import drive\n",
        "from google.colab import drive\n",
        "drive.mount('/content/drive')"
      ]
    },
    {
      "cell_type": "code",
      "execution_count": null,
      "metadata": {
        "colab": {
          "base_uri": "https://localhost:8080/"
        },
        "id": "TE-rDnw-kaPn",
        "outputId": "15ddf2dd-6dba-4fc2-8b0f-a7bda6c39750"
      },
      "outputs": [
        {
          "output_type": "stream",
          "name": "stdout",
          "text": [
            "(4308, 5)\n"
          ]
        },
        {
          "output_type": "execute_result",
          "data": {
            "text/plain": [
              "(17301,)"
            ]
          },
          "metadata": {},
          "execution_count": 2
        }
      ],
      "source": [
        "import tensorflow as tf\n",
        "from tensorflow import keras\n",
        "from tensorflow.keras import layers\n",
        "import pandas as pd\n",
        "import cv2\n",
        "import glob\n",
        "import numpy as np\n",
        "import matplotlib.pyplot as plt\n",
        "from sklearn.model_selection import train_test_split\n",
        "import os\n",
        "import sklearn\n",
        "#os.environ[\"CUDA_VISIBLE_DEVICES\"]=\"0\" \n",
        "\n",
        "#speed values_2013\n",
        "\n",
        "data_2013=pd.read_csv(\"/content/drive/My Drive/Website_data/2013_sw_speed.csv\")  ####change location\n",
        " #/content/drive/MyDrive/Website_data/2013_sw_speed.csv\n",
        "\n",
        "#speedvalues\n",
        "data_y_2013=data_2013[72:4380]\n",
        "duration_2013=data_y_2013.iloc[:,4].values\n",
        "data_speed_2013=data_y_2013.iloc[:,3].values \n",
        "print(data_y_2013.shape)\n",
        "\n",
        "#speed values_2014\n",
        "\n",
        "data_2014=pd.read_csv(\"/content/drive/My Drive/Website_data/2014_sw_speed.csv\")  ####change location\n",
        " \n",
        "\n",
        "#speedvalues\n",
        "data_y_2014=data_2014[49:4380]\n",
        "duration_2014=data_y_2014.iloc[:,4].values\n",
        "data_speed_2014=data_y_2014.iloc[:,3].values \n",
        "\n",
        "#speed values_2015\n",
        "\n",
        "data_2015=pd.read_csv(\"/content/drive/My Drive/Website_data/sw_speed_2015.csv\")  ####change location\n",
        " \n",
        "\n",
        "#speedvalues\n",
        "data_y_2015=data_2015[49:4380]\n",
        "duration_2015=data_y_2015.iloc[:,4].values\n",
        "data_speed_2015=data_y_2015.iloc[:,3].values \n",
        "\n",
        "\n",
        "\n",
        "#speed values 2017 \n",
        "data=pd.read_csv(\"/content/drive/My Drive/Website_data/solar_wind_latest_2017.csv\")  ####change location\n",
        " \n",
        "\n",
        "#speedvalues\n",
        "data_y_2017=data[49:4380]\n",
        "duration=data_y_2017.iloc[:,4].values\n",
        "data_speed=data_y_2017.iloc[:,3].values \n",
        "\n",
        "#speed_values_2018\n",
        "data_2018=pd.read_csv(\"/content/drive/My Drive/Website_data/sw_speed_2018.csv\")  ####change location\n",
        " \n",
        "\n",
        "#speedvalues\n",
        "data_y_2018=data_2018[49:4380]\n",
        "data_2018_ac=data_2018.iloc[:,3].values\n",
        "duration_2018=data_y_2018.iloc[:,4].values\n",
        "data_speed_2018=data_y_2018.iloc[:,3].values \n",
        "\n",
        "\n",
        "\n",
        "\n",
        "#merging all data\n",
        "\n",
        "train_y1=data_y_2013.append(data_y_2014)\n",
        "train_y2=train_y1.append(data_y_2015)\n",
        "train_y3=train_y2.append(data_y_2017)\n",
        "#train_y1=train_y_inter.append(data_y_2015)\n",
        "\n",
        "trainy_speed=train_y3.iloc[:,3].values\n",
        "trainy_speed.shape"
      ]
    },
    {
      "cell_type": "code",
      "execution_count": null,
      "metadata": {
        "colab": {
          "base_uri": "https://localhost:8080/"
        },
        "id": "hs_0grYaLVug",
        "outputId": "fdda446b-e177-4837-8334-184c1197f70f"
      },
      "outputs": [
        {
          "output_type": "stream",
          "name": "stdout",
          "text": [
            "(4331, 512, 512, 1)\n"
          ]
        }
      ],
      "source": [
        "#LOading testing data\n",
        "test_2018=np.load('/content/drive/MyDrive/Website_data/img_full_2018.npy')\n",
        "test_x1 = test_2018.reshape(test_2018.shape[0], 512,512,1)\n",
        "test_x=test_x1[0:4331]\n",
        "print((test_x).shape)"
      ]
    },
    {
      "cell_type": "code",
      "execution_count": null,
      "metadata": {
        "id": "3HNhVb68aSFc"
      },
      "outputs": [],
      "source": [
        "import tensorflow as tf\n",
        "from tensorflow.compat.v1 import ConfigProto\n",
        "from tensorflow.compat.v1 import InteractiveSession\n",
        "\n",
        "config = ConfigProto()\n",
        "config.gpu_options.allow_growth=True\n",
        "sess = tf.compat.v1.Session(config=config)\n"
      ]
    },
    {
      "cell_type": "code",
      "execution_count": null,
      "metadata": {
        "colab": {
          "base_uri": "https://localhost:8080/"
        },
        "id": "BTIoQSBcaSFi",
        "outputId": "95972770-df48-416c-9a83-8a71a846f459",
        "scrolled": true
      },
      "outputs": [
        {
          "output_type": "stream",
          "name": "stdout",
          "text": [
            "Model: \"sequential\"\n",
            "_________________________________________________________________\n",
            " Layer (type)                Output Shape              Param #   \n",
            "=================================================================\n",
            " conv2d (Conv2D)             (None, 168, 168, 32)      2624      \n",
            "                                                                 \n",
            " activation (Activation)     (None, 168, 168, 32)      0         \n",
            "                                                                 \n",
            " max_pooling2d (MaxPooling2D  (None, 84, 84, 32)       0         \n",
            " )                                                               \n",
            "                                                                 \n",
            " conv2d_1 (Conv2D)           (None, 42, 42, 64)        8256      \n",
            "                                                                 \n",
            " activation_1 (Activation)   (None, 42, 42, 64)        0         \n",
            "                                                                 \n",
            " max_pooling2d_1 (MaxPooling  (None, 20, 20, 64)       0         \n",
            " 2D)                                                             \n",
            "                                                                 \n",
            " conv2d_2 (Conv2D)           (None, 10, 10, 128)       32896     \n",
            "                                                                 \n",
            " batch_normalization (BatchN  (None, 10, 10, 128)      512       \n",
            " ormalization)                                                   \n",
            "                                                                 \n",
            " activation_2 (Activation)   (None, 10, 10, 128)       0         \n",
            "                                                                 \n",
            " max_pooling2d_2 (MaxPooling  (None, 8, 8, 128)        0         \n",
            " 2D)                                                             \n",
            "                                                                 \n",
            " flatten (Flatten)           (None, 8192)              0         \n",
            "                                                                 \n",
            " dense (Dense)               (None, 4096)              33558528  \n",
            "                                                                 \n",
            " dropout (Dropout)           (None, 4096)              0         \n",
            "                                                                 \n",
            " dense_1 (Dense)             (None, 1)                 4097      \n",
            "                                                                 \n",
            "=================================================================\n",
            "Total params: 33,606,913\n",
            "Trainable params: 33,606,657\n",
            "Non-trainable params: 256\n",
            "_________________________________________________________________\n",
            "None\n"
          ]
        },
        {
          "output_type": "stream",
          "name": "stderr",
          "text": [
            "/usr/local/lib/python3.7/dist-packages/keras/optimizer_v2/adam.py:105: UserWarning: The `lr` argument is deprecated, use `learning_rate` instead.\n",
            "  super(Adam, self).__init__(name, **kwargs)\n"
          ]
        }
      ],
      "source": [
        "\n",
        "\n",
        "\n",
        "#CNN\n",
        "\n",
        "\n",
        "from keras.models import Model\n",
        "from keras.models import Sequential\n",
        "from keras.layers import Dense, Dropout, Activation, Flatten\n",
        "from keras.layers import Conv2D, MaxPooling2D\n",
        "from keras.layers import convolutional\n",
        "from keras.layers import pooling\n",
        "from keras.layers import core\n",
        "from keras import optimizers\n",
        "from keras.layers import Dropout\n",
        "from keras.layers import BatchNormalization\n",
        "from keras.regularizers import l2\n",
        "from keras.models import load_model\n",
        "\n",
        "#model_3=Sequential()\n",
        "model_8 = Sequential()\n",
        "model_8.add(convolutional.Convolution2D(32, (9,9),strides=(3, 3), input_shape=(512,512,1)))\n",
        "model_8.add(Activation('relu'))\n",
        "model_8.add(pooling.MaxPooling2D(pool_size=(2, 2),strides=(2, 2)))\n",
        "model_8.add(convolutional.Convolution2D(64, (2,2),strides=(2, 2)))\n",
        "model_8.add(Activation('relu'))\n",
        "model_8.add(pooling.MaxPooling2D(pool_size=(3, 3),strides=(2, 2)))\n",
        "model_8.add(convolutional.Convolution2D(128, (2,2),strides=(2, 2)))\n",
        "model_8.add(BatchNormalization())\n",
        "model_8.add(Activation('relu'))\n",
        "model_8.add(pooling.MaxPooling2D(pool_size=(3, 3),strides=(1, 1)))\n",
        "model_8.add(Flatten())\n",
        "model_8.add(Dense(4096,activation='relu'))\n",
        "model_8.add(core.Dropout(.3))\n",
        "model_8.add(Dense(1,activation='linear'))\n",
        "model_8.compile(optimizer=tf.optimizers.Adam(lr=1e-04), loss='mse',metrics=['mse'])\n",
        "print(model_8.summary())\n"
      ]
    },
    {
      "cell_type": "code",
      "execution_count": null,
      "metadata": {
        "id": "4e5-KLaQaSF-"
      },
      "outputs": [],
      "source": [
        "from keras.models import load_model\n",
        "model_8.load_weights('/content/drive/My Drive/Website_data/train_weights_183l_frgb.h5')"
      ]
    },
    {
      "cell_type": "code",
      "execution_count": null,
      "metadata": {
        "id": "noLIqpssLu_2"
      },
      "outputs": [],
      "source": [
        "#y_mean_100=pd.read_csv('/content/drive/My Drive/Website_data/mean_100_models.csv')\n",
        "\n",
        "#mean_pred1=np.mean(y_mean_100,axis=0)\n",
        "#std_pred1=np.std(y_mean_100,axis=0)#"
      ]
    },
    {
      "cell_type": "code",
      "execution_count": null,
      "metadata": {
        "id": "7errgTGLPGLD"
      },
      "outputs": [],
      "source": [
        "import pandas as pd\n",
        "import numpy as np\n",
        "y_test1=pd.read_csv('/content/drive/My Drive/Website_data/y_test1.csv')\n",
        "y_test1=np.array(y_test1).reshape(4331,)"
      ]
    },
    {
      "cell_type": "code",
      "execution_count": null,
      "metadata": {
        "id": "I3aC45JoioI0"
      },
      "outputs": [],
      "source": [
        "#3prediction\n",
        "y_predicted=model_8.predict(test_x)"
      ]
    },
    {
      "cell_type": "code",
      "execution_count": null,
      "metadata": {
        "id": "B0FX0erv_S4v"
      },
      "outputs": [],
      "source": [
        "y_predicted=np.array(y_predicted).reshape(4331,)"
      ]
    },
    {
      "cell_type": "code",
      "execution_count": null,
      "metadata": {
        "colab": {
          "base_uri": "https://localhost:8080/",
          "height": 284
        },
        "id": "ekICOQ8xizCa",
        "outputId": "7300db6f-7e5b-4712-c945-20bc781c65d9"
      },
      "outputs": [
        {
          "output_type": "execute_result",
          "data": {
            "text/plain": [
              "[<matplotlib.lines.Line2D at 0x7f9db0358250>]"
            ]
          },
          "metadata": {},
          "execution_count": 9
        },
        {
          "output_type": "display_data",
          "data": {
            "image/png": "[encoded data removed]",
            "text/plain": [
              "<Figure size 432x288 with 1 Axes>"
            ]
          },
          "metadata": {
            "needs_background": "light"
          }
        }
      ],
      "source": [
        "plt.plot(y_predicted,color='r')\n",
        "plt.plot(y_test1,color='c')"
      ]
    },
    {
      "cell_type": "code",
      "source": [
        "from sklearn.metrics import mean_squared_error\n",
        "from math import sqrt\n",
        "rmse=sqrt(mean_squared_error(y_predicted,y_test1))\n",
        "print(rmse)"
      ],
      "metadata": {
        "colab": {
          "base_uri": "https://localhost:8080/"
        },
        "id": "rw5uMrVrmW40",
        "outputId": "aaf764f3-8566-44ca-df67-58983c1a0f6f"
      },
      "execution_count": null,
      "outputs": [
        {
          "output_type": "stream",
          "name": "stdout",
          "text": [
            "83.28428537014695\n"
          ]
        }
      ]
    }
  ],
  "metadata": {
    "accelerator": "GPU",
    "colab": {
      "collapsed_sections": [],
      "name": "Copy of  Sw_model_copy.ipynb",
      "provenance": []
    },
    "kernelspec": {
      "display_name": "Python 3",
      "name": "python3"
    },
    "language_info": {
      "name": "python"
    }
  },
  "nbformat": 4,
  "nbformat_minor": 0
}